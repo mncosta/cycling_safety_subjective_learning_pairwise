{
 "cells": [
  {
   "cell_type": "code",
   "execution_count": null,
   "id": "d0baa487-d332-4e68-a360-6debf6420e8e",
   "metadata": {},
   "outputs": [],
   "source": [
    "import geopandas as gpd\n",
    "import pandas as pd\n",
    "from shapely.geometry import Polygon\n",
    "import numpy as np\n",
    "from haversine import haversine, Unit\n",
    "from sklearn.neighbors import BallTree\n",
    "import folium"
   ]
  },
  {
   "cell_type": "markdown",
   "id": "4169539c-1187-4880-9f67-2f56f34374fc",
   "metadata": {},
   "source": [
    "# Berlin's polygon"
   ]
  },
  {
   "cell_type": "code",
   "execution_count": null,
   "id": "d3bb08b0-35cd-467b-89b7-252fc533d0b9",
   "metadata": {},
   "outputs": [],
   "source": [
    "berlin_gdf = gpd.read_file(\"berlin_polygons/berlin_ortsteile.shp\")"
   ]
  },
  {
   "cell_type": "code",
   "execution_count": null,
   "id": "823f8f8a-42b9-452b-b27d-6c499d351807",
   "metadata": {},
   "outputs": [],
   "source": [
    "whole_berlin = berlin_gdf.dissolve().explode()"
   ]
  },
  {
   "cell_type": "code",
   "execution_count": null,
   "id": "01777a28-9296-4eb7-870f-66da298847b7",
   "metadata": {},
   "outputs": [],
   "source": [
    "m = folium.Map(location=[52.502957, 13.398887], zoom_start=8, tiles='CartoDB positron')\n",
    "\n",
    "folium.GeoJson(whole_berlin[\"geometry\"]).add_to(m)\n",
    "\n",
    "m#.save(outfile=\"berlin_points.html\")"
   ]
  },
  {
   "cell_type": "markdown",
   "id": "dc36bac7-ef5a-42fa-b5fc-dca908f0e665",
   "metadata": {},
   "source": [
    "# Create linear spaced points"
   ]
  },
  {
   "cell_type": "code",
   "execution_count": null,
   "id": "214b6fc4-87be-4fa5-a15d-5817e17bf9e9",
   "metadata": {},
   "outputs": [],
   "source": [
    "# Use 751/911 for 50m\n",
    "# Use 375/456 for 100m\n",
    "latitude_linspace = np.linspace(whole_berlin.geometry.bounds.miny, whole_berlin.geometry.bounds.maxy, num=375,)\n",
    "longitude_linspace = np.linspace(whole_berlin.geometry.bounds.minx, whole_berlin.geometry.bounds.maxx, num=456,)\n",
    "\n",
    "point_0 = (latitude_linspace[0], longitude_linspace[0])\n",
    "point_1 = (latitude_linspace[0], longitude_linspace[1])\n",
    "point_2 = (latitude_linspace[1], longitude_linspace[0])\n",
    "\n",
    "print('Space between points: {:.3f}m, {:.3f}m'.format(haversine(point_0, point_1), haversine(point_0, point_2)))"
   ]
  },
  {
   "cell_type": "markdown",
   "id": "973df117-53c5-486c-ae70-8f49f23cf498",
   "metadata": {},
   "source": [
    "Generate points in a grid using previous linear spaces"
   ]
  },
  {
   "cell_type": "code",
   "execution_count": null,
   "id": "5751e7c3-3d97-44c2-b27d-dae96e85b6fc",
   "metadata": {},
   "outputs": [],
   "source": [
    "grid_points = []\n",
    "\n",
    "for lat_i in latitude_linspace:\n",
    "    for lon_i in longitude_linspace:\n",
    "        grid_points.append( (lat_i[0], lon_i[0]) )\n",
    "\n",
    "print('Total number of grid points:', len(grid_points))"
   ]
  },
  {
   "cell_type": "markdown",
   "id": "0c787481-3051-4a9f-a675-2c4933e677f0",
   "metadata": {},
   "source": [
    "Transform to geopandas object"
   ]
  },
  {
   "cell_type": "code",
   "execution_count": null,
   "id": "60667a47-cbbf-41d2-84a1-f251a6b93853",
   "metadata": {},
   "outputs": [],
   "source": [
    "df = pd.DataFrame(grid_points, columns =['lat', 'lon'])\n",
    "grid_points_gdf = gpd.GeoDataFrame(df, geometry=gpd.points_from_xy(df.lon,df.lat)).set_crs('epsg:4326')\n",
    "grid_points_gdf.head()"
   ]
  },
  {
   "cell_type": "markdown",
   "id": "274c4e4b-372a-4d5e-bfaa-ced8ffec9503",
   "metadata": {},
   "source": [
    "# Intersect points and Berlin's geometry"
   ]
  },
  {
   "cell_type": "code",
   "execution_count": null,
   "id": "067c2145-7509-4290-b1d2-fe5f6f8ddfce",
   "metadata": {},
   "outputs": [],
   "source": [
    "pip = grid_points_gdf.within(whole_berlin['geometry'].iloc[0])"
   ]
  },
  {
   "cell_type": "code",
   "execution_count": null,
   "id": "45e5f814-7ac1-4222-b552-d1941cf03219",
   "metadata": {},
   "outputs": [],
   "source": [
    "#creating a new gdf keep only the intersecting records\n",
    "berlin_grid_points = grid_points_gdf.loc[pip].copy()\n",
    "print('Total number of points:', berlin_grid_points.shape[0])"
   ]
  },
  {
   "cell_type": "markdown",
   "id": "f8c0325c-99d9-4ffb-a3bc-75e10da313d1",
   "metadata": {},
   "source": [
    "Plot results"
   ]
  },
  {
   "cell_type": "code",
   "execution_count": null,
   "id": "da35fd83-eac0-4a7a-8545-207e3729e41a",
   "metadata": {
    "scrolled": true
   },
   "outputs": [],
   "source": [
    "m = folium.Map(location=[52.502957, 13.398887], zoom_start=8, tiles='CartoDB positron')\n",
    "\n",
    "\n",
    "berlin_neighborhood_grid_points.apply(lambda row: folium.CircleMarker(location=[row[\"lat\"], row[\"lon\"]],\n",
    "                                                                      radius=1, fill_color='red', color='red').add_to(m), axis=1)\n",
    "folium.GeoJson(whole_berlin[\"geometry\"]).add_to(m)\n",
    "\n",
    "<<\n",
    "m#.save(outfile=\"berlin_points.html\")"
   ]
  },
  {
   "cell_type": "markdown",
   "id": "803c2f4b-ca9a-4a42-b547-efdf06ed4ff8",
   "metadata": {},
   "source": [
    "# Snap points to network"
   ]
  },
  {
   "cell_type": "code",
   "execution_count": null,
   "id": "1cad2370-fc5b-42d2-8689-98c6a026cdb6",
   "metadata": {},
   "outputs": [],
   "source": [
    "import osmnx as ox\n",
    "from IPython.display import IFrame"
   ]
  },
  {
   "cell_type": "code",
   "execution_count": null,
   "id": "4714504b-6f47-4c9a-96eb-c8d4b772fd36",
   "metadata": {},
   "outputs": [],
   "source": [
    "G = ox.graph.graph_from_polygon(whole_berlin[\"geometry\"].iloc[0], \n",
    "                                network_type='all_private', \n",
    "                                simplify=False, \n",
    "                                retain_all=True, \n",
    "                                truncate_by_edge=False, \n",
    "                                clean_periphery=True, \n",
    "                                custom_filter=None)"
   ]
  },
  {
   "cell_type": "markdown",
   "id": "ffb31ede-ef00-4753-909d-15b197cf02ee",
   "metadata": {},
   "source": [
    "Undirected network graph"
   ]
  },
  {
   "cell_type": "code",
   "execution_count": null,
   "id": "0e7dcc1b-ecec-46e4-ab79-90f67104d587",
   "metadata": {},
   "outputs": [],
   "source": [
    "uG = ox.utils_graph.get_undirected(G)"
   ]
  },
  {
   "cell_type": "markdown",
   "id": "51258b83-22b9-45cc-8686-8db42298a428",
   "metadata": {},
   "source": [
    "Projected network graph"
   ]
  },
  {
   "cell_type": "code",
   "execution_count": null,
   "id": "4a85e41b-941f-4f64-b076-579d15e99798",
   "metadata": {},
   "outputs": [],
   "source": [
    "pG = ox.projection.project_graph(G, to_crs='epsg:4326')"
   ]
  },
  {
   "cell_type": "markdown",
   "id": "e5c55059-3b59-4cc1-b371-a07efbc0cf64",
   "metadata": {},
   "source": [
    "Graph edges"
   ]
  },
  {
   "cell_type": "code",
   "execution_count": null,
   "id": "7ae79616-d959-4c07-8ae7-2fd8dc2e5536",
   "metadata": {},
   "outputs": [],
   "source": [
    "gdf_edges = ox.utils_graph.graph_to_gdfs(pG, nodes=False)[[\"geometry\", \"length\"]]"
   ]
  },
  {
   "cell_type": "code",
   "execution_count": null,
   "id": "17f67e4d-8f49-4a9f-ac9e-ece50cb78cda",
   "metadata": {},
   "outputs": [],
   "source": [
    "aa = berlin_grid_points\n",
    "aa"
   ]
  },
  {
   "cell_type": "code",
   "execution_count": null,
   "id": "ee174b58-b0ca-42ae-b647-1b9a8f49c37b",
   "metadata": {},
   "outputs": [],
   "source": [
    "edges = ox.distance.nearest_edges(pG, aa['lon'], aa['lat'], interpolate=.001, return_dist=True)"
   ]
  },
  {
   "cell_type": "code",
   "execution_count": null,
   "id": "c6fef586-cbc6-49f2-a3fc-c748b0b2a5bb",
   "metadata": {},
   "outputs": [],
   "source": [
    "np.array(edges[1]).mean()"
   ]
  },
  {
   "cell_type": "code",
   "execution_count": null,
   "id": "45893c4a-8dda-46f7-8a7a-68f068d71a24",
   "metadata": {},
   "outputs": [],
   "source": [
    "lines = gdf_edges.loc[edges[0], \"geometry\"]"
   ]
  },
  {
   "cell_type": "markdown",
   "id": "c5f9d876-042e-477d-a5fb-d0858737af53",
   "metadata": {},
   "source": [
    "# Filter points that are too close together"
   ]
  },
  {
   "cell_type": "code",
   "execution_count": null,
   "id": "cc1a0696-c9e9-4f83-94ae-4d5c852bacda",
   "metadata": {},
   "outputs": [],
   "source": [
    "n_points = 5\n",
    "\n",
    "points_on_graph = []\n",
    "for line, (point_idx, point) in zip(lines.items(), aa.iterrows()):\n",
    "    possible_points = line[1].interpolate(np.random.rand(n_points), normalized=True)\n",
    "    \n",
    "    distance_between_pts = point.geometry.distance(possible_points)\n",
    "    point_on_graph = possible_points[distance_between_pts.argmin()]\n",
    " \n",
    "    points_on_graph.append(point_on_graph)"
   ]
  },
  {
   "cell_type": "markdown",
   "id": "10dfda18-1e3a-4975-a698-a14e68c75db8",
   "metadata": {},
   "source": [
    "Plot grid points and their projections on the network"
   ]
  },
  {
   "cell_type": "code",
   "execution_count": null,
   "id": "3ad4e1e1-6f98-43d5-a570-95a8d6683452",
   "metadata": {
    "scrolled": true
   },
   "outputs": [],
   "source": [
    "m = folium.Map(location=[52.502957, 13.398887], zoom_start=13, tiles='CartoDB positron')\n",
    "m = folium.Map(location=[52.502957, 13.398887], zoom_start=13, tiles='openstreetmap')\n",
    "\n",
    "#folium.GeoJson(lines).add_to(m)\n",
    "aa.apply(lambda row: folium.CircleMarker(location=[row[\"lat\"], row[\"lon\"]],\n",
    "                                         radius=1, fill_color='red', color='red').add_to(m), axis=1)\n",
    "for i in range(len(points_on_graph)):\n",
    "    folium.CircleMarker(location=[points_on_graph[i].y, points_on_graph[i].x],\n",
    "                        radius=2, fill_color='green', color='green').add_to(m)\n",
    "\n",
    "m#.save(outfile=\"berlin_points.html\")"
   ]
  },
  {
   "cell_type": "code",
   "execution_count": null,
   "id": "446e701b-27a9-4158-8657-5cd5568db657",
   "metadata": {},
   "outputs": [],
   "source": [
    "x, y = [], []\n",
    "for i in range(len(points_on_graph)):\n",
    "    x.append(points_on_graph[i].x)\n",
    "    y.append(points_on_graph[i].y)\n",
    "\n",
    "df = pd.DataFrame({'lon': x, 'lat': y})"
   ]
  },
  {
   "cell_type": "code",
   "execution_count": null,
   "id": "7d6b246d-01a4-4635-97a1-eec71be00081",
   "metadata": {},
   "outputs": [],
   "source": [
    "gdf = gpd.GeoDataFrame(df, geometry=gpd.points_from_xy(df['lat'],df['lon']))"
   ]
  },
  {
   "cell_type": "code",
   "execution_count": null,
   "id": "d6ce0ae0-1788-4a55-8680-23091e38da9e",
   "metadata": {},
   "outputs": [],
   "source": [
    "gdf"
   ]
  },
  {
   "cell_type": "code",
   "execution_count": null,
   "id": "be9a315f-af52-4c7e-9d7c-17ace64eecc1",
   "metadata": {},
   "outputs": [],
   "source": [
    "gdf = gdf.set_crs(4326)"
   ]
  },
  {
   "cell_type": "code",
   "execution_count": null,
   "id": "d288748e-e6fc-4a0b-8d41-3e897f90f9c3",
   "metadata": {},
   "outputs": [],
   "source": [
    "aa = gdf.geometry.apply(lambda x: gdf.distance(x).min())"
   ]
  },
  {
   "cell_type": "code",
   "execution_count": null,
   "id": "760230f4-a652-458a-832a-5e949acb46e6",
   "metadata": {},
   "outputs": [],
   "source": [
    "x = pd.DataFrame([df['lat'],df['lon']]).T\n",
    "x = np.deg2rad(x)\n",
    "\n",
    "ball_tree = BallTree(x, metric=\"haversine\")"
   ]
  },
  {
   "cell_type": "code",
   "execution_count": null,
   "id": "31be29a4-133c-4316-acf5-3d2d46c73356",
   "metadata": {},
   "outputs": [],
   "source": [
    "x['index'] = x.index"
   ]
  },
  {
   "cell_type": "markdown",
   "id": "76b31ba3-3126-4892-b2eb-f7fc4d2e8400",
   "metadata": {},
   "source": [
    "Joing observations within a 20m radius of each other"
   ]
  },
  {
   "cell_type": "code",
   "execution_count": null,
   "id": "521b1680-7552-465d-8445-bf371ca7bf31",
   "metadata": {},
   "outputs": [],
   "source": [
    "radius = 80\n",
    "neighbors = ball_tree.query_radius(\n",
    "    x[['lat', 'lon']],\n",
    "    r=radius / 6371000, # meters over the earth radius in meters\n",
    "    return_distance=False,  # choose whether you also want to return the distance\n",
    "    sort_results=False,\n",
    ")"
   ]
  },
  {
   "cell_type": "code",
   "execution_count": null,
   "id": "8221495a-4c15-454f-84e5-2b25afe991e4",
   "metadata": {},
   "outputs": [],
   "source": [
    "neighbors.shape"
   ]
  },
  {
   "cell_type": "code",
   "execution_count": null,
   "id": "59e15f81-e57b-4270-8b7d-c6260001b44a",
   "metadata": {},
   "outputs": [],
   "source": [
    "codes, uniques = pd.factorize(pd.DataFrame(neighbors)[0].astype(str))"
   ]
  },
  {
   "cell_type": "code",
   "execution_count": null,
   "id": "f9033e0d-5f51-4a67-a3b0-807ba3bef53a",
   "metadata": {},
   "outputs": [],
   "source": [
    "df['panel'] = codes"
   ]
  },
  {
   "cell_type": "code",
   "execution_count": null,
   "id": "a2b63cd7-cd5e-48de-b92d-d9e0d9212fe1",
   "metadata": {},
   "outputs": [],
   "source": [
    "df2 = df.drop_duplicates(subset=['panel'], keep='first')"
   ]
  },
  {
   "cell_type": "code",
   "execution_count": null,
   "id": "f96a52b9-4cf3-4836-8ebd-f22783355ca2",
   "metadata": {},
   "outputs": [],
   "source": [
    "df2"
   ]
  },
  {
   "cell_type": "code",
   "execution_count": null,
   "id": "c2a8e1d1-ed1e-4e10-bb77-598a8bf27766",
   "metadata": {
    "scrolled": true
   },
   "outputs": [],
   "source": [
    "m = folium.Map(location=[52.502957, 13.398887], zoom_start=13, tiles='CartoDB positron')\n",
    "\n",
    "df2.apply(lambda row: folium.CircleMarker(location=[row[\"lat\"], row[\"lon\"]],\n",
    "                                         radius=1, fill_color='red', color='red').add_to(m), axis=1)\n",
    "folium.GeoJson(berlin_gdf[\"geometry\"].iloc[0]).add_to(m)\n",
    "\n",
    "m#.save(outfile=\"berlin_points.html\")"
   ]
  },
  {
   "cell_type": "markdown",
   "id": "76fbfb6c-2aca-422b-bf74-7b9f00cd6eaa",
   "metadata": {},
   "source": [
    "Rename columns"
   ]
  },
  {
   "cell_type": "code",
   "execution_count": null,
   "id": "f7c12280-c8c2-492d-b458-99a9f7d928c5",
   "metadata": {},
   "outputs": [],
   "source": [
    "df2 = df2.rename(columns={\"lon\": \"Longitude\", \"lat\": \"Latitude\"})"
   ]
  },
  {
   "cell_type": "code",
   "execution_count": null,
   "id": "075f2be2-9751-425b-a574-d56a2a56146e",
   "metadata": {},
   "outputs": [],
   "source": [
    "df2"
   ]
  },
  {
   "cell_type": "markdown",
   "id": "725b48f9-d1a2-433e-aa74-096a29f5fdeb",
   "metadata": {},
   "source": [
    "Write points to file"
   ]
  },
  {
   "cell_type": "code",
   "execution_count": null,
   "id": "f0994833-ba12-4a41-b578-a111aec14a1d",
   "metadata": {},
   "outputs": [],
   "source": [
    "df2.to_csv('berlin_randompoints_onnetwork.csv', index=False)"
   ]
  },
  {
   "cell_type": "code",
   "execution_count": null,
   "id": "c4177676-a4f6-4257-8ee5-a72c3a4f87fe",
   "metadata": {},
   "outputs": [],
   "source": []
  },
  {
   "cell_type": "code",
   "execution_count": null,
   "id": "fac48f83-ee69-4d14-8e9d-05cae0f9a3cf",
   "metadata": {},
   "outputs": [],
   "source": []
  },
  {
   "cell_type": "code",
   "execution_count": null,
   "id": "fbe1c655-8ee5-4861-b045-e0e36367860a",
   "metadata": {},
   "outputs": [],
   "source": []
  },
  {
   "cell_type": "code",
   "execution_count": null,
   "id": "44bba962-7c9e-4c5c-a0c1-5b5b5783f7d7",
   "metadata": {},
   "outputs": [],
   "source": []
  },
  {
   "cell_type": "code",
   "execution_count": null,
   "id": "94271a15-9ea4-4b51-bdcb-9754eb5cb8e7",
   "metadata": {},
   "outputs": [],
   "source": []
  },
  {
   "cell_type": "code",
   "execution_count": null,
   "id": "3347a40c-b900-40bf-a85f-353042d3c804",
   "metadata": {},
   "outputs": [],
   "source": []
  },
  {
   "cell_type": "code",
   "execution_count": null,
   "id": "c8efb7cf-d99b-4cb3-86c1-b0876ab59cc6",
   "metadata": {},
   "outputs": [],
   "source": []
  },
  {
   "cell_type": "code",
   "execution_count": null,
   "id": "ab4f35b6-fd3d-40fa-9484-59c9090826d6",
   "metadata": {},
   "outputs": [],
   "source": []
  },
  {
   "cell_type": "code",
   "execution_count": null,
   "id": "31b85143-e44c-4498-ab72-acc62fa6f1dc",
   "metadata": {},
   "outputs": [],
   "source": []
  }
 ],
 "metadata": {
  "kernelspec": {
   "display_name": "Python 3 (ipykernel)",
   "language": "python",
   "name": "python3"
  },
  "language_info": {
   "codemirror_mode": {
    "name": "ipython",
    "version": 3
   },
   "file_extension": ".py",
   "mimetype": "text/x-python",
   "name": "python",
   "nbconvert_exporter": "python",
   "pygments_lexer": "ipython3",
   "version": "3.11.3"
  }
 },
 "nbformat": 4,
 "nbformat_minor": 5
}
