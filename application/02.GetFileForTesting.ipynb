{
 "cells": [
  {
   "cell_type": "code",
   "execution_count": null,
   "id": "0c5868ab-493a-4e73-9e27-e19e316a474c",
   "metadata": {},
   "outputs": [],
   "source": [
    "from glob import glob\n",
    "import pandas as pd\n",
    "import pickle\n",
    "import os"
   ]
  },
  {
   "cell_type": "markdown",
   "id": "d195a29e-645b-44b2-8d04-1f6b7a66426b",
   "metadata": {},
   "source": [
    "Get available images"
   ]
  },
  {
   "cell_type": "code",
   "execution_count": null,
   "id": "7d279649-1727-4652-8800-4222a26cc01c",
   "metadata": {},
   "outputs": [],
   "source": [
    "available_images = glob(\"/mnt/common/mncosta/datasets/mapillary/subjective_application_berlin/*.jpg\")"
   ]
  },
  {
   "cell_type": "markdown",
   "id": "8ee079b7-0792-4f3a-a0cd-40ef6b070fae",
   "metadata": {},
   "source": [
    "Generate a pairwise comparison between one image and itself"
   ]
  },
  {
   "cell_type": "code",
   "execution_count": null,
   "id": "46e8f54f-229b-402b-a3cd-199d161e57ea",
   "metadata": {},
   "outputs": [],
   "source": [
    "observations = []\n",
    "for image in available_images:\n",
    "    if '60957_0' in image: # error on image downloaded. can't read it.\n",
    "        continue\n",
    "    observations.append({\n",
    "        'image_i': os.path.basename(image),\n",
    "        'image_j': os.path.basename(image),\n",
    "        'image_l': os.path.basename(image).replace('.jpg', ''),\n",
    "        'image_r': os.path.basename(image).replace('.jpg', ''),\n",
    "        'score': 1,\n",
    "        'dataset': 'application_ber'\n",
    "    })\n",
    "observations = pd.DataFrame(observations)    "
   ]
  },
  {
   "cell_type": "code",
   "execution_count": null,
   "id": "b7f8c1d6-968e-4470-9b23-d6f4738bfa3d",
   "metadata": {},
   "outputs": [],
   "source": [
    "display(observations.head())\n",
    "observations.shape"
   ]
  },
  {
   "cell_type": "markdown",
   "id": "e715a1b7-4944-4159-94ba-d513df87cb1c",
   "metadata": {},
   "source": [
    "Save generated comparisons"
   ]
  },
  {
   "cell_type": "code",
   "execution_count": null,
   "id": "70501ae2-1e4e-4344-b5fe-ef17fa877298",
   "metadata": {},
   "outputs": [],
   "source": [
    "observations.to_pickle(os.path.join('..', 'data', 'application_ber' + '.pickle'))"
   ]
  },
  {
   "cell_type": "code",
   "execution_count": null,
   "id": "e12857d1-0a81-48ab-be00-2e0aaecd92e2",
   "metadata": {},
   "outputs": [],
   "source": []
  }
 ],
 "metadata": {
  "kernelspec": {
   "display_name": "Python 3 (ipykernel)",
   "language": "python",
   "name": "python3"
  },
  "language_info": {
   "codemirror_mode": {
    "name": "ipython",
    "version": 3
   },
   "file_extension": ".py",
   "mimetype": "text/x-python",
   "name": "python",
   "nbconvert_exporter": "python",
   "pygments_lexer": "ipython3",
   "version": "3.11.3"
  }
 },
 "nbformat": 4,
 "nbformat_minor": 5
}
