{
 "cells": [
  {
   "cell_type": "code",
   "execution_count": null,
   "id": "19e02f57-41ec-49a6-b709-f55a60012eed",
   "metadata": {},
   "outputs": [],
   "source": [
    "import base64\n",
    "import branca.colormap as cm\n",
    "import folium\n",
    "from folium import IFrame\n",
    "from glob import glob\n",
    "from io import BytesIO\n",
    "import json\n",
    "import matplotlib.pyplot as plt\n",
    "from matplotlib.colors import rgb2hex\n",
    "import matplotlib.image as mpimg\n",
    "import os\n",
    "import pandas as pd\n",
    "import pickle\n",
    "from PIL import Image, ImageOps\n",
    "from scipy import ndimage\n",
    "from sklearn.preprocessing import MinMaxScaler\n",
    "from tqdm.notebook import trange, tqdm"
   ]
  },
  {
   "cell_type": "markdown",
   "id": "5ff87802-4052-4bc0-9a1b-807311c08285",
   "metadata": {},
   "source": [
    "# Image details"
   ]
  },
  {
   "cell_type": "code",
   "execution_count": null,
   "id": "42e9613f-ffab-4db3-9155-9712b1c7b81d",
   "metadata": {},
   "outputs": [],
   "source": [
    "image_details = glob(\"/mnt/common/mncosta/datasets/mapillary/subjective_application_berlin/*.json\")\n",
    "\n",
    "details = []\n",
    "for details_file in tqdm(image_details):\n",
    "    aux1 = json.load(open(details_file))\n",
    "    aux2 = {'image_i': aux1['image_number'],\n",
    "            'Longitude': aux1['geometry']['coordinates'][0],\n",
    "            'Latitude': aux1['geometry']['coordinates'][1],\n",
    "            'captured_at': aux1['properties']['captured_at'],\n",
    "            'compass_angle': aux1['properties']['compass_angle'],\n",
    "            'id': aux1['properties']['id'],\n",
    "            'is_pano': aux1['properties']['is_pano'],\n",
    "            'sequence_id': aux1['properties']['sequence_id'],\n",
    "            }\n",
    "\n",
    "    details.append(aux2)\n",
    "\n",
    "details = pd.DataFrame(details).set_index('image_i', drop=False)\n",
    "details.index.name = None\n",
    "details = details[details.is_pano == False] # Remove 360 images"
   ]
  },
  {
   "cell_type": "code",
   "execution_count": null,
   "id": "36fd2e38-9c31-4cca-bc91-d4ea07cdbc30",
   "metadata": {},
   "outputs": [],
   "source": [
    "details_df = details[['Longitude', 'Latitude', 'image_i']]"
   ]
  },
  {
   "cell_type": "markdown",
   "id": "3a125d83-8fdd-475c-8f83-b0f6da459df9",
   "metadata": {},
   "source": [
    "# Image ranks"
   ]
  },
  {
   "cell_type": "code",
   "execution_count": null,
   "id": "5cc45a45-b776-489a-80c7-ee6a60939463",
   "metadata": {},
   "outputs": [],
   "source": [
    "ranks = pd.read_pickle('../outputs/saved/application_vgg_syn+ber.pt_results.pkl')"
   ]
  },
  {
   "cell_type": "code",
   "execution_count": null,
   "id": "107689cd-770f-4b44-b3ef-dc8cc06f0b27",
   "metadata": {},
   "outputs": [],
   "source": [
    "ranks['image'] = ranks.image_left.str.replace('/mnt/common/mncosta/datasets/mapillary/subjective_application_berlin/', '').str.replace('_0.jpg', '').astype(int)\n",
    "ranks = ranks.set_index('image', drop=False)\n",
    "ranks.index.name = None\n",
    "ranks_df = ranks[['rank_left', 'image', 'image_left']].rename(columns={'rank_left': 'rank', 'image_left': 'image_path'})"
   ]
  },
  {
   "cell_type": "markdown",
   "id": "81f9c5aa-f201-4a1c-a1b6-b1ddab5099d0",
   "metadata": {},
   "source": [
    "# Final Data"
   ]
  },
  {
   "cell_type": "code",
   "execution_count": null,
   "id": "f37c7451-bc4e-4ab0-819a-6de154e60f61",
   "metadata": {},
   "outputs": [],
   "source": [
    "df = pd.merge(details_df, ranks_df, left_index=True, right_index=True)"
   ]
  },
  {
   "cell_type": "code",
   "execution_count": null,
   "id": "95181e3b-0633-4158-b12c-d68dba4ba019",
   "metadata": {},
   "outputs": [],
   "source": [
    "scaler = MinMaxScaler()\n",
    "df['rank_scaled'] = scaler.fit_transform(df['rank'].values.reshape(-1, 1)).reshape(1,-1)[0]"
   ]
  },
  {
   "cell_type": "markdown",
   "id": "b3f0e894-d01a-4557-a681-8be7c6626de9",
   "metadata": {},
   "source": [
    "## City-wide Plot"
   ]
  },
  {
   "cell_type": "code",
   "execution_count": null,
   "id": "e1e7681b-b1b2-415c-a7f0-49e1c2fe5adb",
   "metadata": {},
   "outputs": [],
   "source": [
    "cmap = plt.cm.jet\n",
    "\n",
    "m = folium.Map(width=1100, height=700,\n",
    "               location=[df['Latitude'].mean(), df['Longitude'].mean()], \n",
    "               zoom_start=11, \n",
    "               tiles='CartoDB positron',\n",
    "               zoom_control=False,\n",
    "               scrollWheelZoom=False,\n",
    "               dragging=False\n",
    "              )\n",
    "\n",
    "df.apply(lambda row: folium.Circle(\n",
    "        location    =[row[\"Latitude\"], row[\"Longitude\"]],\n",
    "        radius      =5, \n",
    "        fill_color  =rgb2hex(cmap(1-row['rank_scaled'])), \n",
    "        color       =rgb2hex(cmap(1-row['rank_scaled'])), \n",
    "        fill_opacity=.3,\n",
    "        opacity     =.3,\n",
    "    ).add_to(m), axis=1);\n",
    "\n",
    "m"
   ]
  },
  {
   "cell_type": "markdown",
   "id": "c8d7a5b1-06e4-4642-8618-a94d97c27470",
   "metadata": {},
   "source": [
    "## Legend"
   ]
  },
  {
   "cell_type": "code",
   "execution_count": null,
   "id": "bfcc772a-5f42-4791-abc9-dee00b0a1944",
   "metadata": {},
   "outputs": [],
   "source": [
    "fig, axarr = plt.subplots(1,1, figsize=(15, 15));\n",
    "rotated_img = ndimage.rotate(mpimg.imread('colormap.png'), -90);\n",
    "axarr.imshow(rotated_img);\n",
    "axarr.text(20, 10, '1 (Perceived Safe)', style='italic', color='k', fontsize='large', bbox={'facecolor': 'grey', 'alpha': 0.0, 'pad': 1});\n",
    "axarr.text(20, 500, '0 (Perceived Unsafe)', style='italic', color='k', fontsize='large', bbox={'facecolor': 'grey', 'alpha': 0.0, 'pad': 1});\n",
    "axarr.set_xticks([]);\n",
    "axarr.set_yticks([]);\n",
    "fig.savefig('application_colormap.png', dpi=fig.dpi)"
   ]
  },
  {
   "cell_type": "markdown",
   "id": "631b8ce2-636d-48ef-a09d-0b5adea09bf4",
   "metadata": {},
   "source": [
    "## Show some SVI"
   ]
  },
  {
   "cell_type": "code",
   "execution_count": null,
   "id": "f52a48dd-deaa-4046-b3d7-baf97d272541",
   "metadata": {
    "scrolled": true
   },
   "outputs": [],
   "source": [
    "cmap = plt.cm.jet\n",
    "\n",
    "# Base map\n",
    "m = folium.Map(width=1100, height=700,\n",
    "               location=[df['Latitude'].mean(), df['Longitude'].mean()], \n",
    "               zoom_start=13, \n",
    "               tiles='CartoDB positron',\n",
    "#               zoom_control=False,\n",
    "#               scrollWheelZoom=False,\n",
    "#               dragging=False\n",
    "              )\n",
    "\n",
    "# Draw scores\n",
    "df.apply(lambda row: folium.Circle(\n",
    "        location    =[row[\"Latitude\"], row[\"Longitude\"]],\n",
    "        radius      =5, \n",
    "        fill_color  =rgb2hex(cmap(1-row['rank_scaled'])), \n",
    "        color       =rgb2hex(cmap(1-row['rank_scaled'])), \n",
    "        fill_opacity=1.,\n",
    "        opacity     =1.,\n",
    "        tooltip='<b>{}</b'.format(row['rank_scaled']), \n",
    "    ).add_to(m), axis=1);\n",
    "\n",
    "# Draw some SVI for a zone\n",
    "df_ = df.copy()\n",
    "df_ = df_[(df_.Latitude > 52.505) & (df_.Latitude < 52.525) & (df_.Longitude > 13.38) & (df_.Longitude < 13.42)].sample(50)\n",
    "print(df_.shape)\n",
    "\n",
    "for lat, lon, rank, imagename in zip(df_['Latitude'], df_['Longitude'], df_['rank_scaled'], df_['image_path']):\n",
    "    im2 = ImageOps.equalize(Image.open(imagename), mask=None) # histogram equalize\n",
    "    buffered = BytesIO()\n",
    "    im2.save(buffered, format=\"JPEG\")\n",
    "    encoded = base64.b64encode(buffered.getvalue())\n",
    "    \n",
    "    #encoded = base64.b64encode(open(imagename, 'rb').read())\n",
    "    html='<div><img src=\"data:image/jpeg;base64,{}\" width=\"150\" height=\"100\"><br/><span>Score: {:.2f}</span></div>'.format\n",
    "    resolution, width, height = 75, 50, 25\n",
    "    iframe = IFrame(html(encoded.decode('UTF-8'), rank), width=170, height=140)\n",
    "    popup = folium.Popup(iframe, max_width=200, show=True)\n",
    "    marker = folium.Circle(location=[lat, lon], \n",
    "                           radius=10,\n",
    "                           popup=popup, \n",
    "                           #icon=icon,\n",
    "                           fill_color  =rgb2hex(cmap(1-rank)),\n",
    "                           color       =rgb2hex(cmap(1-rank)), \n",
    "                           fill_opacity=1.,\n",
    "                           opacity     =1.,\n",
    "                           tooltip='<b>{0:.2f}</b'.format(rank), \n",
    "                          )\n",
    "    marker.add_to(m)\n",
    "\n",
    "m"
   ]
  },
  {
   "cell_type": "code",
   "execution_count": null,
   "id": "e043c382-99b6-4646-a23b-79dfdede0f36",
   "metadata": {},
   "outputs": [],
   "source": [
    "cmap = plt.cm.jet\n",
    "\n",
    "# Base map\n",
    "m = folium.Map(width=1100, height=700,\n",
    "               location=[df['Latitude'].mean(), df['Longitude'].mean()], \n",
    "               zoom_start=13, \n",
    "               tiles='CartoDB positron',\n",
    "#               zoom_control=False,\n",
    "#               scrollWheelZoom=False,\n",
    "#               dragging=False\n",
    "              )\n",
    "\n",
    "# Draw scores\n",
    "df.apply(lambda row: folium.Circle(\n",
    "        location    =[row[\"Latitude\"], row[\"Longitude\"]],\n",
    "        radius      =15, \n",
    "        fill_color  =rgb2hex(cmap(1-row['rank_scaled'])), \n",
    "        color       =rgb2hex(cmap(1-row['rank_scaled'])), \n",
    "        fill_opacity=1.,\n",
    "        opacity     =1.,\n",
    "        tooltip='<b>{} / {}</b'.format(row['rank_scaled'], row['image_path'].replace('/mnt/common/mncosta/datasets/mapillary/subjective_application_berlin/', '')), \n",
    "    ).add_to(m), axis=1);\n",
    "\n",
    "m"
   ]
  },
  {
   "cell_type": "code",
   "execution_count": null,
   "id": "2742f90e-4922-4386-b2ae-9d24dd164783",
   "metadata": {},
   "outputs": [],
   "source": [
    "#im = ImageOps.equalize(Image.open('/mnt/common/mncosta/datasets/mapillary/subjective_application_berlin/65151_0.jpg'), mask=None) # histogram equalize\n",
    "im = Image.open('/mnt/common/mncosta/datasets/mapillary/subjective_application_berlin/65150_0.jpg')\n",
    "im = ImageOps.scale(im, 0.25)\n",
    "im"
   ]
  },
  {
   "cell_type": "code",
   "execution_count": null,
   "id": "bfad448d-7c60-4f6a-9aa8-8e1096f174e5",
   "metadata": {},
   "outputs": [],
   "source": []
  }
 ],
 "metadata": {
  "kernelspec": {
   "display_name": "Python 3 (ipykernel)",
   "language": "python",
   "name": "python3"
  },
  "language_info": {
   "codemirror_mode": {
    "name": "ipython",
    "version": 3
   },
   "file_extension": ".py",
   "mimetype": "text/x-python",
   "name": "python",
   "nbconvert_exporter": "python",
   "pygments_lexer": "ipython3",
   "version": "3.11.3"
  }
 },
 "nbformat": 4,
 "nbformat_minor": 5
}
