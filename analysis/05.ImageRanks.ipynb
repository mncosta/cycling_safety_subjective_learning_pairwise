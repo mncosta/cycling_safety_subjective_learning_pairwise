{
 "cells": [
  {
   "cell_type": "code",
   "execution_count": null,
   "id": "b7b75855-e5f9-4a54-870f-da5774ca667f",
   "metadata": {},
   "outputs": [],
   "source": [
    "from glob import glob\n",
    "import pandas as pd\n",
    "import matplotlib.pyplot as plt\n",
    "import matplotlib.image as mpimg"
   ]
  },
  {
   "cell_type": "code",
   "execution_count": null,
   "id": "92a07aaf-ffa6-4254-9b34-b522d3d410f2",
   "metadata": {},
   "outputs": [],
   "source": [
    "from matplotlib import rc\n",
    "#rc('font',**{'family':'sans-serif','sans-serif':['Helvetica']})\n",
    "rc('font',**{'family':'serif',\n",
    "             'serif':['Times New Roman'],\n",
    "             'size': 12,\n",
    "            })"
   ]
  },
  {
   "cell_type": "markdown",
   "id": "785ab307-2e43-4ff8-9c0b-f1efef52ca3d",
   "metadata": {},
   "source": [
    "# Synthetic images"
   ]
  },
  {
   "cell_type": "code",
   "execution_count": null,
   "id": "5f52f289-73ba-4192-b1e6-6d87da98f7ae",
   "metadata": {},
   "outputs": [],
   "source": [
    "model_results = glob('../outputs/saved/synthetic-*.pkl')"
   ]
  },
  {
   "cell_type": "code",
   "execution_count": null,
   "id": "5e6d4fbc-392e-4fb3-b178-212108eb5b4d",
   "metadata": {},
   "outputs": [],
   "source": [
    "df = pd.read_pickle(model_results[5])"
   ]
  },
  {
   "cell_type": "code",
   "execution_count": null,
   "id": "53490691-0341-4bc1-8a33-e991ae26f14f",
   "metadata": {},
   "outputs": [],
   "source": [
    "rank_0 = df[df.rank_right == df.rank_right.min()].image_right.iloc[0]\n",
    "rank_1 = '/home/mncosta/data/images/01_MS_C_901.jpg'\n",
    "rank_2 = '/home/mncosta/data/images/01_CP_C_828.jpg'\n",
    "rank_3 = df[df.rank_right == df.rank_right.max()].image_right.iloc[0]"
   ]
  },
  {
   "cell_type": "code",
   "execution_count": null,
   "id": "01492f2a-8bf6-4200-bdf3-ab5466594aca",
   "metadata": {},
   "outputs": [],
   "source": [
    "fig, axarr = plt.subplots(1,4, figsize=(15, 15));\n",
    "axarr[0].imshow(mpimg.imread(rank_0))\n",
    "axarr[0].text(50, 900, '-1.83', style='italic', color='w', fontsize='large', bbox={'facecolor': 'grey', 'alpha': 0.9, 'pad': 1})\n",
    "axarr[0].set_xticks([]);\n",
    "axarr[0].set_yticks([]);\n",
    "axarr[1].imshow(mpimg.imread(rank_1))\n",
    "axarr[1].text(50, 900, '-1.06', style='italic', color='w', fontsize='large', bbox={'facecolor': 'grey', 'alpha': 0.9, 'pad': 1})\n",
    "axarr[1].set_xticks([]);\n",
    "axarr[1].set_yticks([]);\n",
    "axarr[2].imshow(mpimg.imread(rank_2))\n",
    "axarr[2].text(50, 900, '0.82', style='italic', color='w', fontsize='large', bbox={'facecolor': 'grey', 'alpha': 0.9, 'pad': 1})\n",
    "axarr[2].set_xticks([]);\n",
    "axarr[2].set_yticks([]);\n",
    "axarr[3].imshow(mpimg.imread(rank_3))\n",
    "axarr[3].text(50, 900, '1.38', style='italic', color='w', fontsize='large', bbox={'facecolor': 'grey', 'alpha': 0.9, 'pad': 1})\n",
    "axarr[3].set_xticks([]);\n",
    "axarr[3].set_yticks([]);"
   ]
  },
  {
   "cell_type": "markdown",
   "id": "be658c79-8e7c-4963-93a2-344ff4d5e3de",
   "metadata": {},
   "source": [
    "# Real images"
   ]
  },
  {
   "cell_type": "code",
   "execution_count": null,
   "id": "f3d2a3ec-bc29-400a-9d62-45c1b32bc2dd",
   "metadata": {},
   "outputs": [],
   "source": [
    "model_results = glob('../outputs/saved/backbone_vgg_syn+ber_vgg_syn+ber.pt_results.pkl')"
   ]
  },
  {
   "cell_type": "code",
   "execution_count": null,
   "id": "97742a3c-a1e3-4223-b9e6-36fb04dc25e2",
   "metadata": {},
   "outputs": [],
   "source": [
    "df.image_left = df.image_left.str.replace('/mnt/raid1/mncosta/', '/home/mncosta/data/')\n",
    "df.image_right = df.image_right.str.replace('/mnt/raid1/mncosta/', '/home/mncosta/data/')"
   ]
  },
  {
   "cell_type": "code",
   "execution_count": null,
   "id": "62f9845f-59c9-4adf-9135-008a2295d117",
   "metadata": {},
   "outputs": [],
   "source": [
    "df = pd.read_pickle(model_results[0])"
   ]
  },
  {
   "cell_type": "code",
   "execution_count": null,
   "id": "04e74b2d-ffc9-4353-aeda-42603ab88563",
   "metadata": {},
   "outputs": [],
   "source": [
    "df[(df.rank_right > 3.5)].head(20)"
   ]
  },
  {
   "cell_type": "code",
   "execution_count": null,
   "id": "b9a81a6e-9fd7-46db-9e61-635627aa7226",
   "metadata": {},
   "outputs": [],
   "source": [
    "rank_0 = '/home/mncosta/data/berlin/4088.jpg'\n",
    "rank_1 = '/home/mncosta/data/berlin/9079.jpg'\n",
    "rank_2 = '/home/mncosta/data/berlin/4006.jpg'\n",
    "#rank_3 = '/home/mncosta/data/berlin/8822.jpg'\n",
    "rank_3 = '/home/mncosta/data/berlin/10086.jpg'"
   ]
  },
  {
   "cell_type": "code",
   "execution_count": null,
   "id": "f6cdd5c8-d8de-4b42-8bd4-e0796d1f7db1",
   "metadata": {},
   "outputs": [],
   "source": [
    "fig, axarr = plt.subplots(1,4, figsize=(15, 15));\n",
    "axarr[0].imshow(mpimg.imread(rank_0))\n",
    "axarr[0].text(50, 1450, '-4.07', style='italic', color='w', fontsize='large', bbox={'facecolor': 'grey', 'alpha': 0.9, 'pad': 1})\n",
    "axarr[0].set_xticks([]);\n",
    "axarr[0].set_yticks([]);\n",
    "axarr[1].imshow(mpimg.imread(rank_1))\n",
    "axarr[1].text(50, 1450, '-1.65', style='italic', color='w', fontsize='large', bbox={'facecolor': 'grey', 'alpha': 0.9, 'pad': 1})\n",
    "axarr[1].set_xticks([]);\n",
    "axarr[1].set_yticks([]);\n",
    "axarr[2].imshow(mpimg.imread(rank_2))\n",
    "axarr[2].text(50, 1450, '1.77', style='italic', color='w', fontsize='large', bbox={'facecolor': 'grey', 'alpha': 0.9, 'pad': 1})\n",
    "axarr[2].set_xticks([]);\n",
    "axarr[2].set_yticks([]);\n",
    "axarr[3].imshow(mpimg.imread(rank_3))\n",
    "axarr[3].text(50, 1450, '3.56', style='italic', color='w', fontsize='large', bbox={'facecolor': 'grey', 'alpha': 0.9, 'pad': 1})\n",
    "axarr[3].set_xticks([]);\n",
    "axarr[3].set_yticks([]);"
   ]
  },
  {
   "cell_type": "code",
   "execution_count": null,
   "id": "4316af94-eca3-4589-904c-2f498fdfef84",
   "metadata": {},
   "outputs": [],
   "source": []
  }
 ],
 "metadata": {
  "kernelspec": {
   "display_name": "Python 3 (ipykernel)",
   "language": "python",
   "name": "python3"
  },
  "language_info": {
   "codemirror_mode": {
    "name": "ipython",
    "version": 3
   },
   "file_extension": ".py",
   "mimetype": "text/x-python",
   "name": "python",
   "nbconvert_exporter": "python",
   "pygments_lexer": "ipython3",
   "version": "3.11.3"
  }
 },
 "nbformat": 4,
 "nbformat_minor": 5
}
